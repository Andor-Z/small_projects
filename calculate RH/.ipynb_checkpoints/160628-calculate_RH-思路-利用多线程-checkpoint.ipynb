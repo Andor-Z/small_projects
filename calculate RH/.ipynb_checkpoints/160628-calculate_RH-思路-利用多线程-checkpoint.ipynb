{
 "cells": [
  {
   "cell_type": "markdown",
   "metadata": {},
   "source": [
    "今天在看招聘网站时，看到一家公司的数据分析岗位的面试前题，便下载下来做一下试试。  \n",
    "代码和数据文件在这里[Andor-Z/small_projects/calculate RH](https://github.com/Andor-Z/small_projects/tree/master/calculate%20RH)。"
   ]
  },
  {
   "cell_type": "markdown",
   "metadata": {},
   "source": [
    "## 1. 题目  \n",
    "  \n",
    "19991001-20000930”文件夹下包含 1999-10-01 至 2000-09-30 期间沪深两市全部 A 股的代码  、简称、日期、开盘价(元)、最高价(元)、最低价(元)、收盘价(元)、成交量(股)、成交金额(元)，以代码为文件名保存成的 xls 文件。请你计算 2000 年 3 月 9 日这一天的所有股票的市场情绪指标(RH)的排名, 降序排列，输出成 excel 文件或者 txt 文件，文件内容逐列依次为“代码”、“简称”、“市场情绪指标”、“排名”。可以使用任意编程语言或工具。市场情绪指标 RH 的计算公式如下：   \n",
    "  \n",
    "$$RH = \\frac{max(最近5日收盘价(包括今日)) - 今日收盘价}{max(最近5日收盘价(包括今日)) - min(最近5日收盘价(包括今日))}$$  \n",
    "  \n",
    "最近 5 日收盘价相同，定义 RH=0 ; 上市不足 5 天的，不纳入计算。  "
   ]
  },
  {
   "cell_type": "markdown",
   "metadata": {},
   "source": [
    "## 2. 第一反应  \n",
    "  \n",
    "看完此题目，我的第一反应是：  \n",
    "    1. 是否会出现由于某些特殊原因，导致3月9日这天没有数据的？（个人最终理解如果3月9日无数据的，不纳入计算）  \n",
    "    2. 最近5天，是指最近有数据的5天，还是时间上的最近5天？（个人最终理解为有数据的最近5天）\n",
    "    3. 上市不足5天，指到3月9日时不足5天\n",
    "    4. 对于上市不足5天、3月9日当天没有数据的，虽然不纳入计算，最好有数据统计一下？  \n",
    "      \n",
    "好吧，不管我这样空想了多少，不能光想不做，让我来着手处理它吧。  \n",
    "  "
   ]
  },
  {
   "cell_type": "markdown",
   "metadata": {},
   "source": [
    "## 3. 解题  \n",
    "  \n",
    "首先查看一下数据："
   ]
  },
  {
   "cell_type": "code",
   "execution_count": 1,
   "metadata": {
    "collapsed": false
   },
   "outputs": [
    {
     "data": {
      "text/html": [
       "<div>\n",
       "<table border=\"1\" class=\"dataframe\">\n",
       "  <thead>\n",
       "    <tr style=\"text-align: right;\">\n",
       "      <th></th>\n",
       "      <th>代码</th>\n",
       "      <th>简称</th>\n",
       "      <th>日期</th>\n",
       "      <th>开盘价(元)</th>\n",
       "      <th>最高价(元)</th>\n",
       "      <th>最低价(元)</th>\n",
       "      <th>收盘价(元)</th>\n",
       "      <th>成交量(股)</th>\n",
       "      <th>成交金额(元)</th>\n",
       "    </tr>\n",
       "  </thead>\n",
       "  <tbody>\n",
       "    <tr>\n",
       "      <th>0</th>\n",
       "      <td>000001.SZ</td>\n",
       "      <td>平安银行</td>\n",
       "      <td>1999-10-08</td>\n",
       "      <td>23.01</td>\n",
       "      <td>23.25</td>\n",
       "      <td>22.51</td>\n",
       "      <td>22.63</td>\n",
       "      <td>5341900.0</td>\n",
       "      <td>121685913.1</td>\n",
       "    </tr>\n",
       "    <tr>\n",
       "      <th>1</th>\n",
       "      <td>000001.SZ</td>\n",
       "      <td>平安银行</td>\n",
       "      <td>1999-10-11</td>\n",
       "      <td>22.65</td>\n",
       "      <td>23.00</td>\n",
       "      <td>22.13</td>\n",
       "      <td>22.21</td>\n",
       "      <td>2945400.0</td>\n",
       "      <td>66079127.7</td>\n",
       "    </tr>\n",
       "    <tr>\n",
       "      <th>2</th>\n",
       "      <td>000001.SZ</td>\n",
       "      <td>平安银行</td>\n",
       "      <td>1999-10-12</td>\n",
       "      <td>22.21</td>\n",
       "      <td>22.59</td>\n",
       "      <td>22.13</td>\n",
       "      <td>22.47</td>\n",
       "      <td>2914400.0</td>\n",
       "      <td>65088320.2</td>\n",
       "    </tr>\n",
       "    <tr>\n",
       "      <th>3</th>\n",
       "      <td>000001.SZ</td>\n",
       "      <td>平安银行</td>\n",
       "      <td>1999-10-13</td>\n",
       "      <td>22.58</td>\n",
       "      <td>22.70</td>\n",
       "      <td>21.83</td>\n",
       "      <td>21.92</td>\n",
       "      <td>3987900.0</td>\n",
       "      <td>88021013.4</td>\n",
       "    </tr>\n",
       "    <tr>\n",
       "      <th>4</th>\n",
       "      <td>000001.SZ</td>\n",
       "      <td>平安银行</td>\n",
       "      <td>1999-10-14</td>\n",
       "      <td>21.78</td>\n",
       "      <td>22.36</td>\n",
       "      <td>21.55</td>\n",
       "      <td>21.79</td>\n",
       "      <td>3996200.0</td>\n",
       "      <td>87281751.4</td>\n",
       "    </tr>\n",
       "  </tbody>\n",
       "</table>\n",
       "</div>"
      ],
      "text/plain": [
       "          代码    简称         日期  开盘价(元)  最高价(元)  最低价(元)  收盘价(元)     成交量(股)  \\\n",
       "0  000001.SZ  平安银行 1999-10-08   23.01   23.25   22.51   22.63  5341900.0   \n",
       "1  000001.SZ  平安银行 1999-10-11   22.65   23.00   22.13   22.21  2945400.0   \n",
       "2  000001.SZ  平安银行 1999-10-12   22.21   22.59   22.13   22.47  2914400.0   \n",
       "3  000001.SZ  平安银行 1999-10-13   22.58   22.70   21.83   21.92  3987900.0   \n",
       "4  000001.SZ  平安银行 1999-10-14   21.78   22.36   21.55   21.79  3996200.0   \n",
       "\n",
       "       成交金额(元)  \n",
       "0  121685913.1  \n",
       "1   66079127.7  \n",
       "2   65088320.2  \n",
       "3   88021013.4  \n",
       "4   87281751.4  "
      ]
     },
     "execution_count": 1,
     "metadata": {},
     "output_type": "execute_result"
    }
   ],
   "source": [
    "import os\n",
    "import pandas as pd\n",
    "df = pd.read_excel('19991001-20000930/000001.SZ.xls')\n",
    "df.head()\n",
    "#df.tail(5)"
   ]
  },
  {
   "cell_type": "markdown",
   "metadata": {},
   "source": [
    "又多打开几个文件，发现每个文件包含一支股票的数据。对于异常的数据暂时先不主动去寻找。  \n",
    "  \n",
    "### 3.1 思路-分解  \n",
    "  \n",
    "    1. 先求出单独一支股票的RH值  \n",
    "    2. 求出所有股票的RH值并根据题目要求排序  \n",
    "    3. 将结果输入到指定文件  \n",
    "    \n",
    "  \n",
    " \n",
    "### 3.2 完整代码  \n",
    "因为写代码在先，写文章在后，就不把我遇到的问题一一写出来了，直接把代码放出来。代码上也有较为详细的注解。"
   ]
  },
  {
   "cell_type": "code",
   "execution_count": 2,
   "metadata": {
    "collapsed": true
   },
   "outputs": [],
   "source": [
    "import os\n",
    "import pandas as pd\n",
    "\n",
    "def get_RH(filedir, date):\n",
    "   '''\n",
    "   根据文件路径和日期获取单支股票的市场情绪指标，返回\n",
    "    stock_RH = {'代码': stock_code, '简称': stock_name, '市场情绪指标': RH, '状态码': status_code}\n",
    "    状态码：  \n",
    "    1：正常数据\n",
    "    2：当天数据不存在\n",
    "    3：截止到当天为止，上市不足5天\n",
    "    '''\n",
    "    # 因为后续取值需要日期，将日期定位索引值方便取值\n",
    "    stock_df = pd.read_excel(filedir, index_col='日期')\n",
    "    # 获得这支股票的代码和简称\n",
    "    stock_code = stock_df['代码'][0]\n",
    "    stock_name = stock_df['简称'][0]\n",
    "    # 获得这支股票的所有的日期，并转换类型，以检查当天的数据是否存在\n",
    "    date_list = stock_df.index.tolist()\n",
    "    date_pd = pd.to_datetime(date)\n",
    "    if date_pd not in date_list:\n",
    "        # 当天数据不存在，状态码为2\n",
    "        status_code = 2\n",
    "        RH = None\n",
    "    else:\n",
    "        # 取出最近5天的数据\n",
    "        df5 = stock_df[:date].tail(5)\n",
    "        # 如果截止到当天为止，数据量小于5，表示到当天上市不足5天\n",
    "        if len(df5) < 5:\n",
    "            # 截止到当天为止，上市不足5天，状态码为3\n",
    "            status_code = 3\n",
    "            RH = None\n",
    "        else:\n",
    "            # 正常数据，状态码为1\n",
    "            status_code = 1\n",
    "            max_closing_price = df5['收盘价(元)'].max()\n",
    "            min_closing_price = df5['收盘价(元)'].min()\n",
    "            if max_closing_price == min_closing_price:\n",
    "                # 若最近5日收盘价相同，RH = 0\n",
    "                RH = 0\n",
    "            else:\n",
    "                RH = (max_closing_price - df5.ix[date]['收盘价(元)'])/(max_closing_price - min_closing_price)            \n",
    "        \n",
    "    stock_RH = {'代码': stock_code, '简称': stock_name, '市场情绪指标': RH, '状态码': status_code}\n",
    "    return stock_RH\n",
    "\n",
    "def get_stocks_RH(dir='19991001-20000930', date = '2000-03-09'):\n",
    "    '''传入参数dir为包含数据的文件夹或者路径， date为所求RH值的日期\n",
    "    状态码：  \n",
    "    1：正常数据\n",
    "    2：当天数据不存在\n",
    "    3：截止到当天为止，上市不足5天\n",
    "    '''\n",
    "    stock_RHs = []\n",
    "    stock_RHs_2 = []\n",
    "    stock_RHs_3 = []\n",
    "    data_list = os.listdir(dir)\n",
    "    for i in data_list:\n",
    "        data_file = i\n",
    "        data_file_dir = os.path.join(dir, data_file)\n",
    "        stock_RH = get_RH(data_file_dir, date)\n",
    "        if stock_RH['状态码'] == 1:\n",
    "            stock_RHs.append(stock_RH)\n",
    "        elif stock_RH['状态码'] == 2:\n",
    "            stock_RHs_2.append(stock_RH)\n",
    "        elif stock_RH['状态码'] == 3:\n",
    "            stock_RHs_3.append(stock_RH)\n",
    "    # 根据RH值排序\n",
    "    stock_RHs = sorted(stock_RHs, key=lambda s:s['市场情绪指标'], reverse=True)\n",
    "    for i in range(len(stock_RHs)):\n",
    "        stock_RHs[i]['排名'] = i + 1\n",
    "    stock_df = pd.DataFrame(stock_RHs)\n",
    "    # 删除状态码\n",
    "    stock_df = stock_df.drop('状态码', axis=1)\n",
    "    RH_file = date+'的RH.xls' \n",
    "    # 将最终的RH数据写入文件\n",
    "    stock_df.to_excel(RH_file, index=False, columns = ['代码', '简称', '市场情绪指标', '排名'])\n",
    "    \n",
    "    print('本次一共获取{}支股票的数据。'.format(len(data_list)))\n",
    "    print('其中可计算出{}的RH值一共{}支，已经写入当前文件夹下的“{}”文件。'.format(date, len(stock_RHs), RH_file))\n",
    "    print('其中{}当天股票数据不存在的{}支。'.format(date, len(stock_RHs_2)))\n",
    "    print('其中截止到{}为止，上市不足5天的{}支。'.format(date, len(stock_RHs_3)))\n",
    "\n",
    "# if __name__ == '__main__':\n",
    "#     get_stocks_RH()"
   ]
  },
  {
   "cell_type": "markdown",
   "metadata": {},
   "source": [
    "## 4. 优化-利用多线程  \n",
    "由于涉及到了很多IO操作，故欲用多线程优化。  \n",
    "对于原获取单支股票的 `get_RH()` 不做变动。  \n",
    "首先声明几个全局变量，以及继承至 `threading.Thread` 的类。"
   ]
  },
  {
   "cell_type": "code",
   "execution_count": 2,
   "metadata": {
    "collapsed": false
   },
   "outputs": [],
   "source": [
    "from threading import Thread\n",
    "\n",
    "# 声明全局变量\n",
    "stock_RHs_all = []\n",
    "\n",
    "\n",
    "class GetRHThread(Thread):\n",
    "    def __init__(self, filedir, date):\n",
    "        self.filedir = filedir\n",
    "        self.date = date\n",
    "        self.stock_RH = {}\n",
    "        super(GetRHThread, self).__init__()\n",
    "\n",
    "    def run(self):\n",
    "        '''\n",
    "        调用get_RH函数获取单支股票的市场情绪指标\n",
    "        并将数据添加到全局变量列表中\n",
    "        '''\n",
    "        self.stock_RH = get_RH(self.filedir, self.date)\n",
    "        stock_RHs_all.append(self.stock_RH)\n",
    "        \n",
    "\n",
    "\n",
    "def get_stocks_RH(dir='19991001-20000930', date = '2000-03-09'):\n",
    "    '''传入参数dir为包含数据的文件夹或者路径， date为所求RH值的日期\n",
    "    状态码：  \n",
    "    1：正常数据\n",
    "    2：当天数据不存在\n",
    "    3：截止到当天为止，上市不足5天\n",
    "    '''\n",
    "    data_list = os.listdir(dir)\n",
    "    threads = []\n",
    "    for i in data_list:\n",
    "        data_file = i\n",
    "        data_file_dir = os.path.join(dir, data_file)\n",
    "        t = GetRHThread(data_file_dir, date)\n",
    "        threads.append(t)\n",
    "        t.start()\n",
    "    for t in threads:\n",
    "        # 暂停主程序，待所有线程都结束后再继续执行后面的语句\n",
    "        t.join()\n",
    "    stock_RHs = []\n",
    "    # 2、3列表为可能的需求准备\n",
    "    stock_RHs_2 = []\n",
    "    stock_RHs_3 = []\n",
    "    for stock_RH in stock_RHs_all:\n",
    "        # 根据状态码进行分类，添加到不同的列表中\n",
    "        if stock_RH['状态码'] == 1:\n",
    "            stock_RHs.append(stock_RH)\n",
    "        elif stock_RH['状态码'] == 2:\n",
    "            stock_RHs_2.append(stock_RH)\n",
    "        elif stock_RH['状态码'] == 3:\n",
    "            stock_RHs_3.append(stock_RH)\n",
    "        \n",
    "    # 根据RH值排序\n",
    "    stock_RHs = sorted(stock_RHs, key=lambda s:s['市场情绪指标'], reverse=True)\n",
    "    for i in range(len(stock_RHs)):\n",
    "        stock_RHs[i]['排名'] = i + 1\n",
    "    stock_df = pd.DataFrame(stock_RHs)\n",
    "    # 删除状态码\n",
    "    stock_df = stock_df.drop('状态码', axis=1)\n",
    "    RH_file = date+'的RH_多线程.xls' \n",
    "    # 将最终的RH数据写入文件\n",
    "    stock_df.to_excel(RH_file, index=False, columns = ['代码', '简称', '市场情绪指标', '排名'])\n",
    "    print('本次一共获取{}支股票的数据。'.format(len(data_list)))\n",
    "    print('其中可计算出{}的RH值一共{}支，已经写入当前文件夹下的“{}”文件。'.format(date, len(stock_RHs), RH_file))\n",
    "    print('其中{}当天股票数据不存在的{}支。'.format(date, len(stock_RHs_2)))\n",
    "    print('其中截止到{}为止，上市不足5天的{}支。'.format(date, len(stock_RHs_3)))"
   ]
  },
  {
   "cell_type": "markdown",
   "metadata": {},
   "source": [
    "### 4.1 测试优化效果  \n",
    "- 未使用多线程的代码"
   ]
  },
  {
   "cell_type": "code",
   "execution_count": 9,
   "metadata": {
    "collapsed": false
   },
   "outputs": [
    {
     "name": "stdout",
     "output_type": "stream",
     "text": [
      "本次一共获取940支股票的数据。\n",
      "其中可计算出2000-03-09的RH值一共858支，已经写入当前文件夹下的“2000-03-09的RH.xls”文件。\n",
      "其中2000-03-09当天股票数据不存在的80支。\n",
      "其中截止到2000-03-09为止，上市不足5天的2支。\n",
      "\n",
      "IPython CPU timings (estimated):\n",
      "  User   :      50.18 s.\n",
      "  System :       0.00 s.\n",
      "Wall time:      50.18 s.\n"
     ]
    }
   ],
   "source": [
    "%run -t calculate_RH.py"
   ]
  },
  {
   "cell_type": "markdown",
   "metadata": {},
   "source": [
    "- 进行多线程优化过的代码"
   ]
  },
  {
   "cell_type": "code",
   "execution_count": 7,
   "metadata": {
    "collapsed": false
   },
   "outputs": [
    {
     "name": "stdout",
     "output_type": "stream",
     "text": [
      "本次一共获取940支股票的数据。\n",
      "其中可计算出2000-03-09的RH值一共858支，已经写入当前文件夹下的“2000-03-09的RH_多线程.xls”文件。\n",
      "其中2000-03-09当天股票数据不存在的80支。\n",
      "其中截止到2000-03-09为止，上市不足5天的2支。\n",
      "\n",
      "IPython CPU timings (estimated):\n",
      "  User   :      34.66 s.\n",
      "  System :       0.00 s.\n",
      "Wall time:      34.66 s.\n"
     ]
    }
   ],
   "source": [
    "%run -t calculate_RH_thread优化.py"
   ]
  }
 ],
 "metadata": {
  "kernelspec": {
   "display_name": "Python 3",
   "language": "python",
   "name": "python3"
  },
  "language_info": {
   "codemirror_mode": {
    "name": "ipython",
    "version": 3
   },
   "file_extension": ".py",
   "mimetype": "text/x-python",
   "name": "python",
   "nbconvert_exporter": "python",
   "pygments_lexer": "ipython3",
   "version": "3.5.1"
  }
 },
 "nbformat": 4,
 "nbformat_minor": 0
}
